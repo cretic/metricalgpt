{
  "cells": [
    {
      "cell_type": "code",
      "execution_count": 1,
      "metadata": {
        "id": "a23fBAB4SUbd"
      },
      "outputs": [
        {
          "name": "stdout",
          "output_type": "stream",
          "text": [
            "Requirement already satisfied: prosodic in /Users/bsg25/.ai-navigator/conda/lib/python3.12/site-packages (2.1.2)\n",
            "Requirement already satisfied: ftfy in /Users/bsg25/.ai-navigator/conda/lib/python3.12/site-packages (from prosodic) (6.3.1)\n",
            "Requirement already satisfied: langdetect in /Users/bsg25/.ai-navigator/conda/lib/python3.12/site-packages (from prosodic) (1.0.9)\n",
            "Requirement already satisfied: pandas in /Users/bsg25/.ai-navigator/conda/lib/python3.12/site-packages (from prosodic) (2.2.3)\n",
            "Requirement already satisfied: gruut-ipa in /Users/bsg25/.ai-navigator/conda/lib/python3.12/site-packages (from prosodic) (0.13.0)\n",
            "Requirement already satisfied: numpy in /Users/bsg25/.ai-navigator/conda/lib/python3.12/site-packages (from prosodic) (2.2.1)\n",
            "Requirement already satisfied: multiset in /Users/bsg25/.ai-navigator/conda/lib/python3.12/site-packages (from prosodic) (3.2.0)\n",
            "Requirement already satisfied: nltk in /Users/bsg25/.ai-navigator/conda/lib/python3.12/site-packages (from prosodic) (3.9.1)\n",
            "Requirement already satisfied: phonemizer in /Users/bsg25/.ai-navigator/conda/lib/python3.12/site-packages (from prosodic) (3.3.0)\n",
            "Requirement already satisfied: orjson in /Users/bsg25/.ai-navigator/conda/lib/python3.12/site-packages (from prosodic) (3.10.12)\n",
            "Requirement already satisfied: ordered-set in /Users/bsg25/.ai-navigator/conda/lib/python3.12/site-packages (from prosodic) (4.1.0)\n",
            "Requirement already satisfied: click in /Users/bsg25/.ai-navigator/conda/lib/python3.12/site-packages (from prosodic) (8.1.8)\n",
            "Requirement already satisfied: editdistance in /Users/bsg25/.ai-navigator/conda/lib/python3.12/site-packages (from prosodic) (0.8.1)\n",
            "Requirement already satisfied: logmap in /Users/bsg25/.ai-navigator/conda/lib/python3.12/site-packages (from prosodic) (0.0.3)\n",
            "Requirement already satisfied: loguru in /Users/bsg25/.ai-navigator/conda/lib/python3.12/site-packages (from prosodic) (0.7.3)\n",
            "Requirement already satisfied: ipython in /Users/bsg25/.ai-navigator/conda/lib/python3.12/site-packages (from prosodic) (8.31.0)\n",
            "Requirement already satisfied: flask in /Users/bsg25/.ai-navigator/conda/lib/python3.12/site-packages (from prosodic) (3.1.0)\n",
            "Requirement already satisfied: flask-socketio in /Users/bsg25/.ai-navigator/conda/lib/python3.12/site-packages (from prosodic) (5.5.0)\n",
            "Requirement already satisfied: gevent in /Users/bsg25/.ai-navigator/conda/lib/python3.12/site-packages (from prosodic) (24.11.1)\n",
            "Requirement already satisfied: gevent-websocket in /Users/bsg25/.ai-navigator/conda/lib/python3.12/site-packages (from prosodic) (0.10.1)\n",
            "Requirement already satisfied: scipy in /Users/bsg25/.ai-navigator/conda/lib/python3.12/site-packages (from prosodic) (1.14.1)\n",
            "Requirement already satisfied: unicodecsv in /Users/bsg25/.ai-navigator/conda/lib/python3.12/site-packages (from prosodic) (0.14.1)\n",
            "Requirement already satisfied: PyYAML in /Users/bsg25/.ai-navigator/conda/lib/python3.12/site-packages (from prosodic) (6.0.2)\n",
            "Requirement already satisfied: regex in /Users/bsg25/.ai-navigator/conda/lib/python3.12/site-packages (from prosodic) (2024.11.6)\n",
            "Requirement already satisfied: munkres in /Users/bsg25/.ai-navigator/conda/lib/python3.12/site-packages (from prosodic) (1.1.4)\n",
            "Requirement already satisfied: hashstash in /Users/bsg25/.ai-navigator/conda/lib/python3.12/site-packages (from prosodic) (0.2.11)\n",
            "Requirement already satisfied: svgling in /Users/bsg25/.ai-navigator/conda/lib/python3.12/site-packages (from prosodic) (0.5.0)\n",
            "Requirement already satisfied: plotnine in /Users/bsg25/.ai-navigator/conda/lib/python3.12/site-packages (from prosodic) (0.14.4)\n",
            "Requirement already satisfied: Werkzeug>=3.1 in /Users/bsg25/.ai-navigator/conda/lib/python3.12/site-packages (from flask->prosodic) (3.1.3)\n",
            "Requirement already satisfied: Jinja2>=3.1.2 in /Users/bsg25/.ai-navigator/conda/lib/python3.12/site-packages (from flask->prosodic) (3.1.5)\n",
            "Requirement already satisfied: itsdangerous>=2.2 in /Users/bsg25/.ai-navigator/conda/lib/python3.12/site-packages (from flask->prosodic) (2.2.0)\n",
            "Requirement already satisfied: blinker>=1.9 in /Users/bsg25/.ai-navigator/conda/lib/python3.12/site-packages (from flask->prosodic) (1.9.0)\n",
            "Requirement already satisfied: python-socketio>=5.0.2 in /Users/bsg25/.ai-navigator/conda/lib/python3.12/site-packages (from flask-socketio->prosodic) (5.12.0)\n",
            "Requirement already satisfied: wcwidth in /Users/bsg25/.ai-navigator/conda/lib/python3.12/site-packages (from ftfy->prosodic) (0.2.13)\n",
            "Requirement already satisfied: zope.event in /Users/bsg25/.ai-navigator/conda/lib/python3.12/site-packages (from gevent->prosodic) (5.0)\n",
            "Requirement already satisfied: zope.interface in /Users/bsg25/.ai-navigator/conda/lib/python3.12/site-packages (from gevent->prosodic) (7.2)\n",
            "Requirement already satisfied: greenlet>=3.1.1 in /Users/bsg25/.ai-navigator/conda/lib/python3.12/site-packages (from gevent->prosodic) (3.1.1)\n",
            "Requirement already satisfied: decorator in /Users/bsg25/.ai-navigator/conda/lib/python3.12/site-packages (from ipython->prosodic) (5.1.1)\n",
            "Requirement already satisfied: jedi>=0.16 in /Users/bsg25/.ai-navigator/conda/lib/python3.12/site-packages (from ipython->prosodic) (0.19.2)\n",
            "Requirement already satisfied: matplotlib-inline in /Users/bsg25/.ai-navigator/conda/lib/python3.12/site-packages (from ipython->prosodic) (0.1.7)\n",
            "Requirement already satisfied: pexpect>4.3 in /Users/bsg25/.ai-navigator/conda/lib/python3.12/site-packages (from ipython->prosodic) (4.9.0)\n",
            "Requirement already satisfied: prompt_toolkit<3.1.0,>=3.0.41 in /Users/bsg25/.ai-navigator/conda/lib/python3.12/site-packages (from ipython->prosodic) (3.0.48)\n",
            "Requirement already satisfied: pygments>=2.4.0 in /Users/bsg25/.ai-navigator/conda/lib/python3.12/site-packages (from ipython->prosodic) (2.18.0)\n",
            "Requirement already satisfied: stack_data in /Users/bsg25/.ai-navigator/conda/lib/python3.12/site-packages (from ipython->prosodic) (0.6.3)\n",
            "Requirement already satisfied: traitlets>=5.13.0 in /Users/bsg25/.ai-navigator/conda/lib/python3.12/site-packages (from ipython->prosodic) (5.14.3)\n",
            "Requirement already satisfied: six in /Users/bsg25/.ai-navigator/conda/lib/python3.12/site-packages (from langdetect->prosodic) (1.17.0)\n",
            "Requirement already satisfied: humanfriendly in /Users/bsg25/.ai-navigator/conda/lib/python3.12/site-packages (from logmap->prosodic) (10.0)\n",
            "Requirement already satisfied: tqdm in /Users/bsg25/.ai-navigator/conda/lib/python3.12/site-packages (from logmap->prosodic) (4.66.4)\n",
            "Requirement already satisfied: multiprocess in /Users/bsg25/.ai-navigator/conda/lib/python3.12/site-packages (from logmap->prosodic) (0.70.17)\n",
            "Requirement already satisfied: joblib in /Users/bsg25/.ai-navigator/conda/lib/python3.12/site-packages (from nltk->prosodic) (1.4.2)\n",
            "Requirement already satisfied: python-dateutil>=2.8.2 in /Users/bsg25/.ai-navigator/conda/lib/python3.12/site-packages (from pandas->prosodic) (2.9.0.post0)\n",
            "Requirement already satisfied: pytz>=2020.1 in /Users/bsg25/.ai-navigator/conda/lib/python3.12/site-packages (from pandas->prosodic) (2024.2)\n",
            "Requirement already satisfied: tzdata>=2022.7 in /Users/bsg25/.ai-navigator/conda/lib/python3.12/site-packages (from pandas->prosodic) (2024.2)\n",
            "Requirement already satisfied: segments in /Users/bsg25/.ai-navigator/conda/lib/python3.12/site-packages (from phonemizer->prosodic) (2.2.1)\n",
            "Requirement already satisfied: attrs>=18.1 in /Users/bsg25/.ai-navigator/conda/lib/python3.12/site-packages (from phonemizer->prosodic) (24.3.0)\n",
            "Requirement already satisfied: dlinfo in /Users/bsg25/.ai-navigator/conda/lib/python3.12/site-packages (from phonemizer->prosodic) (1.2.1)\n",
            "Requirement already satisfied: typing-extensions in /Users/bsg25/.ai-navigator/conda/lib/python3.12/site-packages (from phonemizer->prosodic) (4.12.2)\n",
            "Requirement already satisfied: matplotlib>=3.8.0 in /Users/bsg25/.ai-navigator/conda/lib/python3.12/site-packages (from plotnine->prosodic) (3.10.0)\n",
            "Requirement already satisfied: mizani~=0.13.0 in /Users/bsg25/.ai-navigator/conda/lib/python3.12/site-packages (from plotnine->prosodic) (0.13.1)\n",
            "Requirement already satisfied: statsmodels>=0.14.0 in /Users/bsg25/.ai-navigator/conda/lib/python3.12/site-packages (from plotnine->prosodic) (0.14.4)\n",
            "Requirement already satisfied: svgwrite in /Users/bsg25/.ai-navigator/conda/lib/python3.12/site-packages (from svgling->prosodic) (1.4.3)\n",
            "Requirement already satisfied: parso<0.9.0,>=0.8.4 in /Users/bsg25/.ai-navigator/conda/lib/python3.12/site-packages (from jedi>=0.16->ipython->prosodic) (0.8.4)\n",
            "Requirement already satisfied: MarkupSafe>=2.0 in /Users/bsg25/.ai-navigator/conda/lib/python3.12/site-packages (from Jinja2>=3.1.2->flask->prosodic) (3.0.2)\n",
            "Requirement already satisfied: contourpy>=1.0.1 in /Users/bsg25/.ai-navigator/conda/lib/python3.12/site-packages (from matplotlib>=3.8.0->plotnine->prosodic) (1.3.1)\n",
            "Requirement already satisfied: cycler>=0.10 in /Users/bsg25/.ai-navigator/conda/lib/python3.12/site-packages (from matplotlib>=3.8.0->plotnine->prosodic) (0.12.1)\n",
            "Requirement already satisfied: fonttools>=4.22.0 in /Users/bsg25/.ai-navigator/conda/lib/python3.12/site-packages (from matplotlib>=3.8.0->plotnine->prosodic) (4.55.3)\n",
            "Requirement already satisfied: kiwisolver>=1.3.1 in /Users/bsg25/.ai-navigator/conda/lib/python3.12/site-packages (from matplotlib>=3.8.0->plotnine->prosodic) (1.4.8)\n",
            "Requirement already satisfied: packaging>=20.0 in /Users/bsg25/.ai-navigator/conda/lib/python3.12/site-packages (from matplotlib>=3.8.0->plotnine->prosodic) (23.2)\n",
            "Requirement already satisfied: pillow>=8 in /Users/bsg25/.ai-navigator/conda/lib/python3.12/site-packages (from matplotlib>=3.8.0->plotnine->prosodic) (11.0.0)\n",
            "Requirement already satisfied: pyparsing>=2.3.1 in /Users/bsg25/.ai-navigator/conda/lib/python3.12/site-packages (from matplotlib>=3.8.0->plotnine->prosodic) (3.2.0)\n",
            "Requirement already satisfied: ptyprocess>=0.5 in /Users/bsg25/.ai-navigator/conda/lib/python3.12/site-packages (from pexpect>4.3->ipython->prosodic) (0.7.0)\n",
            "Requirement already satisfied: bidict>=0.21.0 in /Users/bsg25/.ai-navigator/conda/lib/python3.12/site-packages (from python-socketio>=5.0.2->flask-socketio->prosodic) (0.23.1)\n",
            "Requirement already satisfied: python-engineio>=4.11.0 in /Users/bsg25/.ai-navigator/conda/lib/python3.12/site-packages (from python-socketio>=5.0.2->flask-socketio->prosodic) (4.11.1)\n",
            "Requirement already satisfied: patsy>=0.5.6 in /Users/bsg25/.ai-navigator/conda/lib/python3.12/site-packages (from statsmodels>=0.14.0->plotnine->prosodic) (1.0.1)\n",
            "Requirement already satisfied: dill>=0.3.9 in /Users/bsg25/.ai-navigator/conda/lib/python3.12/site-packages (from multiprocess->logmap->prosodic) (0.3.9)\n",
            "Requirement already satisfied: clldutils>=1.7.3 in /Users/bsg25/.ai-navigator/conda/lib/python3.12/site-packages (from segments->phonemizer->prosodic) (3.24.0)\n",
            "Requirement already satisfied: csvw>=1.5.6 in /Users/bsg25/.ai-navigator/conda/lib/python3.12/site-packages (from segments->phonemizer->prosodic) (3.5.1)\n",
            "Requirement already satisfied: executing>=1.2.0 in /Users/bsg25/.ai-navigator/conda/lib/python3.12/site-packages (from stack_data->ipython->prosodic) (2.1.0)\n",
            "Requirement already satisfied: asttokens>=2.1.0 in /Users/bsg25/.ai-navigator/conda/lib/python3.12/site-packages (from stack_data->ipython->prosodic) (3.0.0)\n",
            "Requirement already satisfied: pure_eval in /Users/bsg25/.ai-navigator/conda/lib/python3.12/site-packages (from stack_data->ipython->prosodic) (0.2.3)\n",
            "Requirement already satisfied: setuptools in /Users/bsg25/.ai-navigator/conda/lib/python3.12/site-packages (from zope.event->gevent->prosodic) (69.5.1)\n",
            "Requirement already satisfied: tabulate>=0.7.7 in /Users/bsg25/.ai-navigator/conda/lib/python3.12/site-packages (from clldutils>=1.7.3->segments->phonemizer->prosodic) (0.9.0)\n",
            "Requirement already satisfied: colorlog in /Users/bsg25/.ai-navigator/conda/lib/python3.12/site-packages (from clldutils>=1.7.3->segments->phonemizer->prosodic) (6.9.0)\n",
            "Requirement already satisfied: bibtexparser>=2.0.0b4 in /Users/bsg25/.ai-navigator/conda/lib/python3.12/site-packages (from clldutils>=1.7.3->segments->phonemizer->prosodic) (2.0.0b8)\n",
            "Requirement already satisfied: pylatexenc in /Users/bsg25/.ai-navigator/conda/lib/python3.12/site-packages (from clldutils>=1.7.3->segments->phonemizer->prosodic) (2.10)\n",
            "Requirement already satisfied: markdown in /Users/bsg25/.ai-navigator/conda/lib/python3.12/site-packages (from clldutils>=1.7.3->segments->phonemizer->prosodic) (3.7)\n",
            "Requirement already satisfied: lxml in /Users/bsg25/.ai-navigator/conda/lib/python3.12/site-packages (from clldutils>=1.7.3->segments->phonemizer->prosodic) (5.3.0)\n",
            "Requirement already satisfied: isodate in /Users/bsg25/.ai-navigator/conda/lib/python3.12/site-packages (from csvw>=1.5.6->segments->phonemizer->prosodic) (0.7.2)\n",
            "Requirement already satisfied: rfc3986<2 in /Users/bsg25/.ai-navigator/conda/lib/python3.12/site-packages (from csvw>=1.5.6->segments->phonemizer->prosodic) (1.5.0)\n",
            "Requirement already satisfied: uritemplate>=3.0.0 in /Users/bsg25/.ai-navigator/conda/lib/python3.12/site-packages (from csvw>=1.5.6->segments->phonemizer->prosodic) (4.1.1)\n",
            "Requirement already satisfied: babel in /Users/bsg25/.ai-navigator/conda/lib/python3.12/site-packages (from csvw>=1.5.6->segments->phonemizer->prosodic) (2.16.0)\n",
            "Requirement already satisfied: requests in /Users/bsg25/.ai-navigator/conda/lib/python3.12/site-packages (from csvw>=1.5.6->segments->phonemizer->prosodic) (2.32.2)\n",
            "Requirement already satisfied: language-tags in /Users/bsg25/.ai-navigator/conda/lib/python3.12/site-packages (from csvw>=1.5.6->segments->phonemizer->prosodic) (1.2.0)\n",
            "Requirement already satisfied: rdflib in /Users/bsg25/.ai-navigator/conda/lib/python3.12/site-packages (from csvw>=1.5.6->segments->phonemizer->prosodic) (7.1.1)\n",
            "Requirement already satisfied: colorama in /Users/bsg25/.ai-navigator/conda/lib/python3.12/site-packages (from csvw>=1.5.6->segments->phonemizer->prosodic) (0.4.6)\n",
            "Requirement already satisfied: jsonschema in /Users/bsg25/.ai-navigator/conda/lib/python3.12/site-packages (from csvw>=1.5.6->segments->phonemizer->prosodic) (4.23.0)\n",
            "Requirement already satisfied: simple-websocket>=0.10.0 in /Users/bsg25/.ai-navigator/conda/lib/python3.12/site-packages (from python-engineio>=4.11.0->python-socketio>=5.0.2->flask-socketio->prosodic) (1.1.0)\n",
            "Requirement already satisfied: wsproto in /Users/bsg25/.ai-navigator/conda/lib/python3.12/site-packages (from simple-websocket>=0.10.0->python-engineio>=4.11.0->python-socketio>=5.0.2->flask-socketio->prosodic) (1.2.0)\n",
            "Requirement already satisfied: jsonschema-specifications>=2023.03.6 in /Users/bsg25/.ai-navigator/conda/lib/python3.12/site-packages (from jsonschema->csvw>=1.5.6->segments->phonemizer->prosodic) (2024.10.1)\n",
            "Requirement already satisfied: referencing>=0.28.4 in /Users/bsg25/.ai-navigator/conda/lib/python3.12/site-packages (from jsonschema->csvw>=1.5.6->segments->phonemizer->prosodic) (0.35.1)\n",
            "Requirement already satisfied: rpds-py>=0.7.1 in /Users/bsg25/.ai-navigator/conda/lib/python3.12/site-packages (from jsonschema->csvw>=1.5.6->segments->phonemizer->prosodic) (0.22.3)\n",
            "Requirement already satisfied: charset-normalizer<4,>=2 in /Users/bsg25/.ai-navigator/conda/lib/python3.12/site-packages (from requests->csvw>=1.5.6->segments->phonemizer->prosodic) (2.0.4)\n",
            "Requirement already satisfied: idna<4,>=2.5 in /Users/bsg25/.ai-navigator/conda/lib/python3.12/site-packages (from requests->csvw>=1.5.6->segments->phonemizer->prosodic) (3.7)\n",
            "Requirement already satisfied: urllib3<3,>=1.21.1 in /Users/bsg25/.ai-navigator/conda/lib/python3.12/site-packages (from requests->csvw>=1.5.6->segments->phonemizer->prosodic) (2.2.2)\n",
            "Requirement already satisfied: certifi>=2017.4.17 in /Users/bsg25/.ai-navigator/conda/lib/python3.12/site-packages (from requests->csvw>=1.5.6->segments->phonemizer->prosodic) (2024.12.14)\n",
            "Requirement already satisfied: h11<1,>=0.9.0 in /Users/bsg25/.ai-navigator/conda/lib/python3.12/site-packages (from wsproto->simple-websocket>=0.10.0->python-engineio>=4.11.0->python-socketio>=5.0.2->flask-socketio->prosodic) (0.14.0)\n",
            "Note: you may need to restart the kernel to use updated packages.\n"
          ]
        }
      ],
      "source": [
        "#this cell loads prosodic and espeak\n",
        "##would be nice to flag or exclude espeak\n",
        "\n",
        "%apt-get install espeak libespeak1 libespeak-dev\n",
        "%pip install -U prosodic\n"
      ]
    },
    {
      "cell_type": "code",
      "execution_count": null,
      "metadata": {},
      "outputs": [],
      "source": []
    },
    {
      "cell_type": "code",
      "execution_count": 2,
      "metadata": {
        "colab": {
          "base_uri": "https://localhost:8080/"
        },
        "id": "wJBjMU-3bnXF",
        "outputId": "f0a60693-c4d9-46d2-9897-749fabcbd9ea"
      },
      "outputs": [
        {
          "name": "stdout",
          "output_type": "stream",
          "text": [
            "\u001b[93m[0.02s] hashstash.config.get_engine(): Engine lmdb is not installed. Defaulting to pairtree. To install lmdb, run: pip install lmdb\u001b[0m\n",
            "\u001b[93m[0.00s] hashstash.config.get_compresser(): Compression library lz4 is not installed. Defaulting to zlib. To install lz4, run: pip install lz4\u001b[0m\n",
            "\u001b[93m[0.00s] hashstash.config.get_engine(): Engine lmdb is not installed. Defaulting to pairtree. To install lmdb, run: pip install lmdb\u001b[0m\n"
          ]
        }
      ],
      "source": [
        "import prosodic\n",
        "prosodic.logger.setLevel('ERROR')"
      ]
    },
    {
      "cell_type": "code",
      "execution_count": null,
      "metadata": {
        "colab": {
          "base_uri": "https://localhost:8080/",
          "height": 115
        },
        "id": "c0VX7Qwvsd2d",
        "outputId": "71ac9b1c-362c-4371-a182-2a5725c3de0e"
      },
      "outputs": [],
      "source": [
        "\n",
        "\n",
        "\n",
        "\n",
        "\n",
        "\n"
      ]
    },
    {
      "cell_type": "code",
      "execution_count": null,
      "metadata": {
        "id": "OSjDiMbhRTgv"
      },
      "outputs": [],
      "source": [
        "#parseloop for single txt file\n",
        "\n",
        "import pandas as pd\n",
        "import prosodic\n",
        "prosodic.logger.setLevel('ERROR')\n",
        "\n",
        "#set meter\n",
        "\n",
        "constraints={\n",
        "    'w_peak':2.0,\n",
        "    'w_stress':0.0,\n",
        "    's_unstress':0.0,\n",
        "    'unres_across':1.0,\n",
        "    'unres_within':1.0,\n",
        "    'pentameter':10.0,\n",
        "    'iambic':2.0,\n",
        "}\n",
        "meter = prosodic.Meter(\n",
        "    constraints=constraints,\n",
        "    resolve_optionality=True,\n",
        "    max_s=1,\n",
        "    max_w=2,\n",
        ")\n",
        "\n",
        "meter.to_dict()\n",
        "\n",
        "# Create an empty DataFrame with the desired column headers\n",
        "column_headers = [\"line_txt\", \"txt\", \"meter\", \"stress\", \"score\", \"num_viols\", \"ambig\"]\n",
        "df = pd.DataFrame(columns=column_headers)\n",
        "\n",
        "# Loop through input lines and add data to DataFrame\n",
        "\n",
        "with open('/Users/bsg25/Library/CloudStorage/OneDrive-YaleUniversity/TrochAIc/ChunkedECEP/ecepip119.txt', 'r') as f:  # Replace with your file path\n",
        "        for line in f:\n",
        "            line = line.strip()  # Remove leading/trailing whitespace\n",
        "\n",
        "            line = prosodic.Text(line)  # Process with prosodic.Text()\n",
        "            parses = line.parse()\n",
        "            parse_dict = parses[0].best_parse.attrs\n",
        "\n",
        "    # Extract data from the first parse (modify if you need data from other parses)\n",
        "\n",
        "            new_dict = {key: parse_dict[key] for key in column_headers if key in parse_dict}\n",
        "\n",
        "    # Append data to DataFrame\n",
        "            df = pd.concat([df, pd.DataFrame([new_dict])], ignore_index=True)\n",
        "                \n",
        "\n",
        "\n",
        "    # Save the DataFrame to a CSV file\n",
        "        df.to_csv('/Users/bsg25/Library/CloudStorage/OneDrive-YaleUniversity/TrochAIc/ChunkedECEP/csv_outputs/ecepip119.csv', index=False)\n"
      ]
    },
    {
      "cell_type": "code",
      "execution_count": null,
      "metadata": {},
      "outputs": [],
      "source": []
    },
    {
      "cell_type": "code",
      "execution_count": null,
      "metadata": {
        "colab": {
          "base_uri": "https://localhost:8080/"
        },
        "collapsed": true,
        "id": "TM51xPk0RsFr",
        "outputId": "a2b59b95-0706-4783-bc66-6f6e82fd6e07"
      },
      "outputs": [],
      "source": [
        "#chunk parser\n",
        "\n",
        "import os\n",
        "import pandas as pd\n",
        "import prosodic\n",
        "prosodic.logger.setLevel('ERROR')\n",
        "\n",
        "# Set meter\n",
        "constraints = {\n",
        "    'w_peak': 2.0,\n",
        "    'w_stress': 0.0,\n",
        "    's_unstress': 0.0,\n",
        "    'unres_across': 1.0,\n",
        "    'unres_within': 1.0,\n",
        "    'pentameter': 10.0,\n",
        "    'iambic': 2.0,\n",
        "}\n",
        "meter = prosodic.Meter(\n",
        "    constraints=constraints,\n",
        "    resolve_optionality=True,\n",
        "    max_s=1,\n",
        "    max_w=2,\n",
        ")\n",
        "\n",
        "# Column headers for the DataFrame\n",
        "column_headers = [\"line_txt\", \"txt\", \"meter\", \"stress\", \"score\", \"num_viols\", \"ambig\"]\n",
        "\n",
        "# Input directory containing the files\n",
        "input_dir = '/Users/bsg25/Library/CloudStorage/OneDrive-YaleUniversity/TrochAIc/ChunkedECEP/'  # Replace with your directory path\n",
        "\n",
        "# Loop through each file in the directory\n",
        "for filename in os.listdir(input_dir):\n",
        "    if filename.endswith(\".txt\"):  # Process only .txt files\n",
        "        filepath = os.path.join(input_dir, filename)\n",
        "\n",
        "        # Create an empty DataFrame for the current file\n",
        "        df = None\n",
        "        df = pd.DataFrame(columns=column_headers)\n",
        "\n",
        "        # Read and parse the lines in the file\n",
        "        with open(filepath, 'r') as f:\n",
        "            for line in f:\n",
        "                line = line.strip()\n",
        "                line = prosodic.Text(line)\n",
        "                parses = line.parse()\n",
        "                parse_dict = parses[0].best_parse.attrs\n",
        "\n",
        "                # Extract data from the parse\n",
        "                new_dict = {key: parse_dict[key] for key in column_headers if key in parse_dict}\n",
        "\n",
        "                # Append data to DataFrame\n",
        "                df = pd.concat([df, pd.DataFrame([new_dict])], ignore_index=True)\n",
        "\n",
        "        # Output CSV with the same name as input file (but with .csv extension)\n",
        "        output_filename = os.path.splitext(filename)[0] + \".csv\"\n",
        "        output_filepath = os.path.join('/Users/bsg25/Library/CloudStorage/OneDrive-YaleUniversity/TrochAIc/ChunkedECEP/csv_outputs', output_filename)\n",
        "        df.to_csv(output_filepath, index=False)\n",
        "    \n",
        "        print(f\"Processed: {filename}\")\n",
        "\n",
        "print(\"Processing complete.\")"
      ]
    },
    {
      "cell_type": "markdown",
      "metadata": {
        "id": "dy9RUKK1fIOs"
      },
      "source": [
        "Useful graphs:\n",
        "\n",
        "S in S and W in W\n",
        "\n",
        "Figure +--+ in 0/1/2/3, 2/3/4/5 etc for meter length 10\n",
        "\n",
        "meter distr\n",
        "\n",
        "stress distr"
      ]
    },
    {
      "cell_type": "markdown",
      "metadata": {
        "id": "dNIq-Ot5f1fb"
      },
      "source": []
    }
  ],
  "metadata": {
    "colab": {
      "provenance": []
    },
    "kernelspec": {
      "display_name": "base",
      "language": "python",
      "name": "python3"
    },
    "language_info": {
      "codemirror_mode": {
        "name": "ipython",
        "version": 3
      },
      "file_extension": ".py",
      "mimetype": "text/x-python",
      "name": "python",
      "nbconvert_exporter": "python",
      "pygments_lexer": "ipython3",
      "version": "3.12.2"
    }
  },
  "nbformat": 4,
  "nbformat_minor": 0
}
