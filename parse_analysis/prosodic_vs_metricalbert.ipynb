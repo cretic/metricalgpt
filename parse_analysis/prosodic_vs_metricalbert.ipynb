{
 "cells": [
  {
   "cell_type": "code",
   "execution_count": null,
   "metadata": {
    "colab": {
     "base_uri": "https://localhost:8080/",
     "height": 1000
    },
    "executionInfo": {
     "elapsed": 36604,
     "status": "ok",
     "timestamp": 1735409576865,
     "user": {
      "displayName": "Ben Glaser",
      "userId": "07272924083784911452"
     },
     "user_tz": 300
    },
    "id": "4q4Wktya-r91",
    "outputId": "ee4ee065-acc1-46a2-92bf-14ad695ee84d"
   },
   "outputs": [
    {
     "name": "stdout",
     "output_type": "stream",
     "text": [
      "Collecting lz4\n",
      "  Downloading lz4-4.4.4-cp313-cp313-macosx_11_0_arm64.whl.metadata (3.8 kB)\n",
      "Downloading lz4-4.4.4-cp313-cp313-macosx_11_0_arm64.whl (189 kB)\n",
      "Installing collected packages: lz4\n",
      "Successfully installed lz4-4.4.4\n",
      "\n",
      "\u001b[1m[\u001b[0m\u001b[34;49mnotice\u001b[0m\u001b[1;39;49m]\u001b[0m\u001b[39;49m A new release of pip is available: \u001b[0m\u001b[31;49m25.0.1\u001b[0m\u001b[39;49m -> \u001b[0m\u001b[32;49m25.1.1\u001b[0m\n",
      "\u001b[1m[\u001b[0m\u001b[34;49mnotice\u001b[0m\u001b[1;39;49m]\u001b[0m\u001b[39;49m To update, run: \u001b[0m\u001b[32;49mpip install --upgrade pip\u001b[0m\n"
     ]
    }
   ],
   "source": [
    "## run this cell to install prosodic, then restart runtime as requested [you may need to install espeak as well\n",
    "\n",
    "!pip install -U prosodic\n",
    "!pip install lz4"
   ]
  },
  {
   "cell_type": "code",
   "execution_count": 1,
   "metadata": {
    "id": "O8Zp7696---g"
   },
   "outputs": [
    {
     "name": "stderr",
     "output_type": "stream",
     "text": [
      "Device set to use mps:0\n"
     ]
    }
   ],
   "source": [
    "##run this to import prosodic and avoid excessive logging\n",
    "import pandas as pd\n",
    "import prosodic\n",
    "prosodic.logger.setLevel('ERROR')\n",
    "\n",
    "## load metricalBERT model via pipeline\n",
    "\n",
    "from transformers import pipeline\n",
    "pipe = pipeline(\"text-classification\", model = \"katelyndekeer/metricalBERT_new\")\n"
   ]
  },
  {
   "cell_type": "markdown",
   "metadata": {
    "id": "51_1pLnh1TH9"
   },
   "source": [
    "The cells below give you three options for turning a line, set of lines, or .txt file of lines into prosodic.Text to then be parsed later. set the meter first. changing the meter will not automatically change parses unless you change the inputted text (this is a known bug)"
   ]
  },
  {
   "cell_type": "code",
   "execution_count": 2,
   "metadata": {
    "colab": {
     "base_uri": "https://localhost:8080/"
    },
    "executionInfo": {
     "elapsed": 261,
     "status": "ok",
     "timestamp": 1733520149066,
     "user": {
      "displayName": "Ben Glaser",
      "userId": "07272924083784911452"
     },
     "user_tz": 300
    },
    "id": "ndyrWxOKAa5p",
    "outputId": "1a6d0415-35d6-4495-c6d9-ff274ba4cb71"
   },
   "outputs": [
    {
     "data": {
      "text/plain": [
       "{'Meter': {'key': 'Meter(670644ba38b51383c4efb9b345d68d8b)',\n",
       "  'constraints': {'w_peak': 3.0,\n",
       "   'w_stress': 1.0,\n",
       "   's_unstress': 1.0,\n",
       "   'unres_across': 2.0,\n",
       "   'unres_within': 2.0},\n",
       "  'max_s': 1,\n",
       "  'max_w': 2,\n",
       "  'resolve_optionality': True,\n",
       "  'exhaustive': False,\n",
       "  'parse_unit': 'line'}}"
      ]
     },
     "execution_count": 2,
     "metadata": {},
     "output_type": "execute_result"
    }
   ],
   "source": [
    "# these are the meter parameters.\n",
    "# if you want to play around with different rules and values, do that and make sure to change the inputs and rerun\n",
    "\n",
    "constraints={\n",
    "    'w_peak':3.0,\n",
    "    'w_stress':1.0,\n",
    "    's_unstress':1.0,\n",
    "    'unres_across':2.0,\n",
    "    'unres_within':2.0,\n",
    "\n",
    "}\n",
    "meter = prosodic.Meter(\n",
    "    constraints=constraints,\n",
    "    resolve_optionality=True,\n",
    "    max_s=1,\n",
    "    max_w=2,\n",
    "    parse_unit='line'\n",
    ")\n",
    "\n",
    "meter.to_dict()"
   ]
  },
  {
   "cell_type": "code",
   "execution_count": 3,
   "metadata": {},
   "outputs": [
    {
     "data": {
      "text/plain": [
       "[{'label': 'LABEL_0', 'score': 2.599604845046997}]"
      ]
     },
     "execution_count": 3,
     "metadata": {},
     "output_type": "execute_result"
    }
   ],
   "source": [
    "pipe(\"eternal sunshine of the spotless mind\")"
   ]
  },
  {
   "cell_type": "code",
   "execution_count": null,
   "metadata": {},
   "outputs": [],
   "source": []
  },
  {
   "cell_type": "code",
   "execution_count": 5,
   "metadata": {
    "colab": {
     "base_uri": "https://localhost:8080/",
     "height": 876
    },
    "executionInfo": {
     "elapsed": 1102,
     "status": "ok",
     "timestamp": 1733521175306,
     "user": {
      "displayName": "Ben Glaser",
      "userId": "07272924083784911452"
     },
     "user_tz": 300
    },
    "id": "tlz4qqD2XIfa",
    "outputId": "0ad6a6a4-9ceb-421f-c25e-5866cad3a030"
   },
   "outputs": [],
   "source": [
    "## parse by string. this cell turns one line into a prosodic Text object that can be parsed\n",
    "\n",
    "def parse_line_and_compare(line):\n",
    "    singleline = prosodic.Text(line)\n",
    "    parses = singleline.parse(meter=meter)\n",
    "    pscore = parses[0].best_parse.score\n",
    "\n",
    "    result = pipe(line)[0]\n",
    "    score = result['score']\n",
    "    difference = abs(pscore - score)\n",
    "\n",
    "    result = {\n",
    "                \"input_line\": line.strip(),\n",
    "                \"pscore\": pscore,\n",
    "                \"score\": score,\n",
    "                \"difference\": difference\n",
    "            }\n",
    "\n",
    "    print(\"Line: \" + line)\n",
    "    print(\"Prosodic score: \" + str(pscore))\n",
    "    print(f\"MetricalBERT score: {score} )\")\n",
    "    print(\"Difference: \" + str(difference))\n",
    "\n",
    "    return result\n",
    "\n"
   ]
  },
  {
   "cell_type": "code",
   "execution_count": null,
   "metadata": {},
   "outputs": [],
   "source": []
  },
  {
   "cell_type": "code",
   "execution_count": 7,
   "metadata": {},
   "outputs": [
    {
     "name": "stderr",
     "output_type": "stream",
     "text": [
      "\n",
      "\u001b[32m[2.64s] Parsing lines [6x]\u001b[0m:   0%|          | 0/1 [00:00<?, ?it/s]"
     ]
    },
    {
     "name": "stderr",
     "output_type": "stream",
     "text": [
      "\u001b[A"
     ]
    },
    {
     "name": "stdout",
     "output_type": "stream",
     "text": [
      "Line: eternal sunshine of the spotless mind\n",
      "Prosodic score: 2.0\n",
      "MetricalBERT score: 2.599604845046997 )\n",
      "Difference: 0.5996048450469971\n"
     ]
    },
    {
     "data": {
      "text/plain": [
       "{'input_line': 'eternal sunshine of the spotless mind',\n",
       " 'pscore': 2.0,\n",
       " 'score': 2.599604845046997,\n",
       " 'difference': 0.5996048450469971}"
      ]
     },
     "execution_count": 7,
     "metadata": {},
     "output_type": "execute_result"
    }
   ],
   "source": [
    "parse_line_and_compare(\"eternal sunshine of the spotless mind\")"
   ]
  },
  {
   "cell_type": "code",
   "execution_count": 37,
   "metadata": {},
   "outputs": [],
   "source": [
    "# Assuming parse_line_and_compare returns three values: pscore, score, difference\n",
    "def parse_file_and_compare(filepath):\n",
    "    results = []  # List to store results\n",
    "    with open(filepath, 'r') as f:\n",
    "        for text_line in f:\n",
    "            # Call parse_line_and_compare and unpack the returned values\n",
    "            parse_line_and_compare(text_line.strip())\n",
    "            result = parse_line_and_compare(text_line.strip())\n",
    "            \n",
    "            # Append the dictionary to the results list\n",
    "            results.append(result)\n",
    "    \n",
    "    # Create a DataFrame from the results\n",
    "    df = pd.DataFrame(results)\n",
    "    return df"
   ]
  },
  {
   "cell_type": "markdown",
   "metadata": {
    "id": "mhFTF-yZ3U8Q"
   },
   "source": []
  },
  {
   "cell_type": "code",
   "execution_count": null,
   "metadata": {
    "id": "LkIShn7_OKHU"
   },
   "outputs": [],
   "source": [
    "parse_file_and_compare('/Users/bsg25/metricalgpt/metricalgpt/pl26.txt')\n",
    "\n"
   ]
  },
  {
   "cell_type": "code",
   "execution_count": null,
   "metadata": {},
   "outputs": [],
   "source": [
    "df = parse_file_and_compare('/Users/bsg25/metricalgpt/metricalgpt/sundaymorning.txt')\n"
   ]
  },
  {
   "cell_type": "code",
   "execution_count": null,
   "metadata": {},
   "outputs": [],
   "source": []
  },
  {
   "cell_type": "code",
   "execution_count": 57,
   "metadata": {},
   "outputs": [
    {
     "name": "stdout",
     "output_type": "stream",
     "text": [
      "Mean of difference: 0.9027770479520162\n",
      "Standard deviation of difference: 0.72683243930927\n"
     ]
    }
   ],
   "source": [
    "mean_diff = df['difference'].mean()\n",
    "std_diff = df['difference'].std()\n",
    "print(\"Mean of difference:\", mean_diff)\n",
    "print(\"Standard deviation of difference:\", std_diff)"
   ]
  },
  {
   "cell_type": "code",
   "execution_count": 56,
   "metadata": {},
   "outputs": [
    {
     "data": {
      "image/png": "[encoded data removed]",
      "text/plain": [
       "<Figure size 640x480 with 1 Axes>"
      ]
     },
     "metadata": {},
     "output_type": "display_data"
    }
   ],
   "source": [
    "df['difference'].plot(kind='box')\n",
    "plt.title(\"Range of 'difference' Scores\")\n",
    "plt.show()"
   ]
  },
  {
   "cell_type": "code",
   "execution_count": 53,
   "metadata": {},
   "outputs": [
    {
     "name": "stderr",
     "output_type": "stream",
     "text": [
      "\n",
      "\n",
      "\n",
      "\n",
      "\n",
      "\n",
      "\n",
      "\n",
      "\n",
      "\n",
      "\n",
      "\n",
      "\n",
      "\n",
      "\n",
      "\n",
      "\n",
      "\n",
      "\u001b[A\u001b[A\u001b[A\u001b[A\u001b[A\u001b[A\u001b[A\u001b[A\u001b[A\u001b[A\u001b[A\u001b[A\u001b[A\u001b[A\u001b[A\u001b[A\u001b[A\u001b[A\n",
      "\n",
      "\n",
      "\n",
      "\n",
      "\n",
      "\u001b[A\u001b[A\u001b[A\u001b[A\u001b[A\u001b[A\n",
      "\n",
      "\n",
      "\u001b[A\u001b[A\u001b[A\n",
      "\n",
      "\n",
      "\n",
      "\n",
      "\n",
      "\n",
      "\u001b[A\u001b[A\u001b[A\u001b[A\u001b[A\u001b[A\u001b[A\n",
      "\n",
      "\n",
      "\n",
      "\n",
      "\n",
      "\n",
      "\n",
      "\u001b[A\u001b[A\u001b[A\u001b[A\u001b[A\u001b[A\u001b[A\u001b[A\n",
      "\n",
      "\n",
      "\n",
      "\n",
      "\n",
      "\n",
      "\n",
      "\n",
      "\u001b[A\u001b[A\u001b[A\u001b[A\u001b[A\u001b[A\u001b[A\u001b[A\u001b[A\n",
      "\n",
      "\n",
      "\n",
      "\n",
      "\n",
      "\n",
      "\n",
      "\n",
      "\n",
      "\u001b[A\u001b[A\u001b[A\u001b[A\u001b[A\u001b[A\u001b[A\u001b[A\u001b[A\u001b[A\n",
      "\n",
      "\n",
      "\n",
      "\n",
      "\n",
      "\n",
      "\n",
      "\n",
      "\n",
      "\n",
      "\n",
      "\u001b[A\u001b[A\u001b[A\u001b[A\u001b[A\u001b[A\u001b[A\u001b[A\u001b[A\u001b[A\u001b[A\u001b[A\n",
      "\n",
      "\n",
      "\n",
      "\n",
      "\n",
      "\n",
      "\n",
      "\n",
      "\n",
      "\n",
      "\n",
      "\n",
      "\n",
      "\n",
      "\n",
      "\n",
      "\n",
      "\u001b[A\u001b[A\u001b[A\u001b[A\u001b[A\u001b[A\u001b[A\u001b[A\u001b[A\u001b[A\u001b[A\u001b[A\u001b[A\u001b[A\u001b[A\u001b[A\u001b[A\u001b[A"
     ]
    },
    {
     "data": {
      "image/png": "[encoded data removed]",
      "text/plain": [
       "<Figure size 640x480 with 1 Axes>"
      ]
     },
     "metadata": {},
     "output_type": "display_data"
    }
   ],
   "source": [
    "import matplotlib.pyplot as plt\n",
    "\n",
    "# Assuming you have a DataFrame that contains 'pscore' and 'difference' columns\n",
    "df.plot(x='pscore', y='difference', kind='scatter')\n",
    "plt.title('Difference vs. Pscore')\n",
    "plt.show()"
   ]
  },
  {
   "cell_type": "code",
   "execution_count": 55,
   "metadata": {},
   "outputs": [
    {
     "name": "stdout",
     "output_type": "stream",
     "text": [
      "Coefficient: 0.20406134506512363\n",
      "Intercept: 0.552471738923554\n",
      "R^2: 0.14861555243483526\n"
     ]
    }
   ],
   "source": [
    "model.fit(x, y)\n",
    "coef = model.coef_[0]\n",
    "intercept = model.intercept_\n",
    "r2 = model.score(x, y)\n",
    "\n",
    "print(\"Coefficient:\", coef)\n",
    "print(\"Intercept:\", intercept)\n",
    "print(\"R^2:\", r2)"
   ]
  },
  {
   "cell_type": "code",
   "execution_count": null,
   "metadata": {},
   "outputs": [],
   "source": []
  },
  {
   "cell_type": "code",
   "execution_count": null,
   "metadata": {},
   "outputs": [],
   "source": []
  },
  {
   "cell_type": "markdown",
   "metadata": {
    "id": "WCWEltsDRc5Q"
   },
   "source": [
    "could calculate distance between parse scores line by line, check the average, maybe logarythmically / with softmax-like function so that higher scores don't warp things too much. or just 0 / not zero"
   ]
  }
 ],
 "metadata": {
  "colab": {
   "provenance": [
    {
     "file_id": "1bXscuS3gdaUXxjbpcOV-FbrzLO8m8j2l",
     "timestamp": 1730486404894
    },
    {
     "file_id": "1HTGDDG0NtNVANa0PKdsz46XL9dkLh5Di",
     "timestamp": 1730482564557
    }
   ]
  },
  "kernelspec": {
   "display_name": "3.13.1",
   "language": "python",
   "name": "python3"
  },
  "language_info": {
   "codemirror_mode": {
    "name": "ipython",
    "version": 3
   },
   "file_extension": ".py",
   "mimetype": "text/x-python",
   "name": "python",
   "nbconvert_exporter": "python",
   "pygments_lexer": "ipython3",
   "version": "3.13.1"
  }
 },
 "nbformat": 4,
 "nbformat_minor": 0
}
