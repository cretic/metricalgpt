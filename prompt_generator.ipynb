{
 "cells": [
  {
   "cell_type": "code",
   "execution_count": null,
   "metadata": {},
   "outputs": [],
   "source": [
    "# prompt dictionary generator\n",
    "\n",
    "prompt_dict = []\n",
    "\n",
    "# syntax is \"write me a line [meter_prompts] including the word [seed_word][variations] \"\n",
    "# can add random words\n",
    "\n",
    "meter_prompts = [\"in iambic pentameter\", \"of blank verse\", \"in meter\"]\n",
    "variations = [\"\",\"with rhythmic variation\", \"with a trochaic inversion\", \"with a trochaic inversion after a caesura\", \"with an inverted foot\", \"with a trochaic inversion at the end of the line\"]\n",
    "\n",
    "word_list = [\"sorrow\", \"lament\", \"truth\", \"lie\", \"love\", \"hate\", \"beginning\", \"ultimate\", 'reason', 'deceit']\n",
    "# alt word lists here\n",
    "\n",
    "\n",
    "#prompt generator\n",
    "\n",
    "for meter in meter_prompts:\n",
    "  for variation in variations:\n",
    "    for seed_word in word_list:\n",
    "      # Change this line to define a dictionary\n",
    "      possible_prompts = {\"prompt\": f\"write a line {meter} including the word {seed_word} {variation}\"}\n",
    "\n",
    "      for key, value in possible_prompts.items():\n",
    "        prompt_dict.append({'meter': meter,  # Changed meter_prompt to meter\n",
    "                                'variation': variation,\n",
    "                                'seed_word': seed_word,\n",
    "                                'prompt': value\n",
    "                                                  })\n",
    "\n",
    "                                               "
   ]
  },
  {
   "cell_type": "code",
   "execution_count": 15,
   "metadata": {},
   "outputs": [],
   "source": [
    "import pandas as pd\n",
    "\n",
    "\n",
    "\n",
    "# Convert the prompt_dict to a DataFrame\n",
    "df_prompt_dict = pd.DataFrame(prompt_dict)\n",
    "df_prompt_dict = df_prompt_dict.fillna(\"None\")\n",
    "df_prompt_dict.to_csv('prompt_dict.csv', index=False)\n"
   ]
  },
  {
   "cell_type": "markdown",
   "metadata": {},
   "source": []
  },
  {
   "cell_type": "code",
   "execution_count": 18,
   "metadata": {},
   "outputs": [],
   "source": [
    "# alt animal name generator\n",
    "\n",
    "animal_prompt_dict = []\n",
    "\n",
    "# syntax is \"write me a line [meter_prompts] including the word [seed_word][variations] \"\n",
    "# can add random words\n",
    "\n",
    "meter_prompts = [\"in iambic pentameter\", \"of blank verse\", \"in meter\"]\n",
    "variations = [\"\",\"with rhythmic variation\", \"with a trochaic inversion\", \"with a trochaic inversion after a caesura\", \"with an inverted metrical foot\"]\n",
    "\n",
    "word_list = [\"bear\", \"whale\", \"sloth\", \"cat\", \"dog\", \"giraffe\", \"gazelle\", \"baboon\", \"raccoon\", \"macaw\", \"alpaca\", \"hyena\", \"chinchilla\", \"coyote\", \"gorilla\", \"kangaroo\", \"platypus\", \"porcupine\", \"pangolin\", \"ocelot\", \"lemur\", \"lemming\", \"otter\", \"parrot\", \"squirrel\"]\n",
    "\n",
    "\n",
    "\n",
    "#prompt generator\n",
    "\n",
    "for meter in meter_prompts:\n",
    "  for variation in variations:\n",
    "    for seed_word in word_list:\n",
    "      # Change this line to define a dictionary\n",
    "      possible_prompts = {\"prompt\": f\"write a line {meter} including the word {seed_word} {variation}\"}\n",
    "\n",
    "      for key, value in possible_prompts.items():\n",
    "        animal_prompt_dict.append({'meter': meter,  # Changed meter_prompt to meter\n",
    "                                'variation': variation,\n",
    "                                'seed_word': seed_word,\n",
    "                                'prompt': value\n",
    "                                                  })\n",
    "\n",
    "import pandas as pd\n",
    "\n",
    "\n",
    "# Convert the prompt_dict to a DataFrame\n",
    "df_prompt_dict = pd.DataFrame(animal_prompt_dict)\n",
    "df_prompt_dict = df_prompt_dict.fillna(\"None\")\n",
    "df_prompt_dict.to_csv('animal_prompt_dict.csv', index=False)\n"
   ]
  }
 ],
 "metadata": {
  "kernelspec": {
   "display_name": "base",
   "language": "python",
   "name": "python3"
  },
  "language_info": {
   "codemirror_mode": {
    "name": "ipython",
    "version": 3
   },
   "file_extension": ".py",
   "mimetype": "text/x-python",
   "name": "python",
   "nbconvert_exporter": "python",
   "pygments_lexer": "ipython3",
   "version": "3.12.4"
  }
 },
 "nbformat": 4,
 "nbformat_minor": 2
}
